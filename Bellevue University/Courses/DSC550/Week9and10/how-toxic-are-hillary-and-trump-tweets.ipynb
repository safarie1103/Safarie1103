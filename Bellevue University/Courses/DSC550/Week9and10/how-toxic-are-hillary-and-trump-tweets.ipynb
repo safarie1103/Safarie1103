{
  "cells": [
    {
      "cell_type": "markdown",
      "metadata": {
        "id": "view-in-github",
        "colab_type": "text"
      },
      "source": [
        "<a href=\"https://colab.research.google.com/github/safarie1103/Safarie1103/blob/master/Bellevue%20University/Courses/DSC550/Week9and10/how-toxic-are-hillary-and-trump-tweets.ipynb\" target=\"_parent\"><img src=\"https://colab.research.google.com/assets/colab-badge.svg\" alt=\"Open In Colab\"/></a>"
      ]
    },
    {
      "cell_type": "markdown",
      "metadata": {
        "_uuid": "916588e9812d878f8a45394d00a7549d09897149",
        "id": "2O4QM3gPWA-P"
      },
      "source": [
        "\n",
        "\n",
        "I've been wanting to play with this dataset for a while. I've also been wanting to try to see how do models built on [Toxic Comment Classification Challenge](https://www.kaggle.com/c/jigsaw-toxic-comment-classification-challenge/) perform on non-competition \"real world\" data. Here I will just use one model that was built inside of a [kernel](https://www.kaggle.com/tunguz/bi-gru-lstm-cnn-poolings-fasttext). The kernel scores in the 0.984x AUC range. It's a respectable score, but well below the top solutions that scored in the 0.988x range. \n",
        "\n",
        "---- October 22 2018 Update - Added a few distribution plots and a more extensive lists of the most problematic tweets, 10 per topic. ----\n",
        "\n",
        "---- October 31 2018 Update - Added a few clarifications and explanations. ----"
      ]
    },
    {
      "cell_type": "code",
      "execution_count": null,
      "metadata": {
        "_cell_guid": "b1076dfc-b9ad-4769-8c92-a6c4dae69d19",
        "_uuid": "8f2839f25d086af736a60e9eeb907d3b93b6e0e5",
        "pycharm": {
          "is_executing": false
        },
        "scrolled": true,
        "id": "06RvHhH-WA-U"
      },
      "outputs": [],
      "source": [
        "# This Python 3 environment comes with many helpful analytics libraries installed\n",
        "# It is defined by the kaggle/python docker image: https://github.com/kaggle/docker-python\n",
        "# For example, here's several helpful packages to load in \n",
        "\n",
        "import numpy as np # linear algebra\n",
        "import pandas as pd # data processing, CSV file I/O (e.g. pd.read_csv)\n",
        "import seaborn as sns\n",
        "import matplotlib.pyplot as plt\n",
        "%matplotlib inline  \n",
        "\n",
        "import time\n",
        "start_time = time.time()\n",
        "from sklearn.model_selection import train_test_split\n",
        "import sys, os, re, csv, codecs, numpy as np, pandas as pd\n",
        "np.random.seed(32)\n",
        "os.environ[\"OMP_NUM_THREADS\"] = \"4\"\n",
        "from keras.preprocessing.text import Tokenizer\n",
        "from keras_preprocessing.sequence import pad_sequences\n",
        "from keras.layers import Dense, Input, LSTM, Embedding, Dropout, Activation, Conv1D, GRU\n",
        "from keras.layers import Bidirectional, GlobalMaxPool1D, MaxPooling1D, Add, Flatten\n",
        "from keras.layers import GlobalAveragePooling1D, GlobalMaxPooling1D, concatenate, SpatialDropout1D\n",
        "from keras.models import Model, load_model\n",
        "from keras import initializers, regularizers, constraints, optimizers, layers, callbacks\n",
        "from keras import backend as K\n",
        "#from keras.engine import InputSpec, Layer\n",
        "from keras.optimizers import Adam, RMSprop\n",
        "from keras.callbacks import EarlyStopping, ModelCheckpoint, LearningRateScheduler\n",
        "from keras.layers import GRU, BatchNormalization, Conv1D, MaxPooling1D\n",
        "\n",
        "import logging\n",
        "from sklearn.metrics import roc_auc_score\n",
        "from keras.callbacks import Callback\n",
        "\n",
        "# Input data files are available in the \"../input/\" directory.\n",
        "# For example, running this (by clicking run or pressing Shift+Enter) will list the files in the input directory\n",
        "\n",
        "import os\n",
        "#print(os.listdir(\".\"))\n",
        "\n",
        "# Any results you write to the current directory are saved as output."
      ]
    },
    {
      "cell_type": "markdown",
      "metadata": {
        "_uuid": "9de5c9c1de73cb401db70f4136dd19ee3305f8ca",
        "id": "QdBsvodbWA-X"
      },
      "source": [
        "Now, let's load the data and all the vector embeddings. \n",
        "\n",
        "300-dimensional pretrained FastText English word vectors released by Facebook.\n",
        "\n",
        "The first line of the file contains the number of words in the vocabulary and the size of the vectors. Each line contains a word followed by its vectors, like in the default fastText text format. Each value is space separated. Words are ordered by descending frequency."
      ]
    },
    {
      "cell_type": "code",
      "execution_count": null,
      "metadata": {
        "_cell_guid": "79c7e3d0-c299-4dcb-8224-4455121ee9b0",
        "_uuid": "d629ff2d2480ee46fbb7e2d37f6b5fab8052498a",
        "id": "eifMb1FwWA-Y",
        "outputId": "d40fc1c4-85e2-4bd8-dcb3-3e56e63608b9"
      },
      "outputs": [
        {
          "data": {
            "text/html": [
              "<div>\n",
              "<style scoped>\n",
              "    .dataframe tbody tr th:only-of-type {\n",
              "        vertical-align: middle;\n",
              "    }\n",
              "\n",
              "    .dataframe tbody tr th {\n",
              "        vertical-align: top;\n",
              "    }\n",
              "\n",
              "    .dataframe thead th {\n",
              "        text-align: right;\n",
              "    }\n",
              "</style>\n",
              "<table border=\"1\" class=\"dataframe\">\n",
              "  <thead>\n",
              "    <tr style=\"text-align: right;\">\n",
              "      <th></th>\n",
              "      <th>id</th>\n",
              "      <th>handle</th>\n",
              "      <th>text</th>\n",
              "      <th>is_retweet</th>\n",
              "      <th>original_author</th>\n",
              "      <th>time</th>\n",
              "      <th>in_reply_to_screen_name</th>\n",
              "      <th>in_reply_to_status_id</th>\n",
              "      <th>in_reply_to_user_id</th>\n",
              "      <th>is_quote_status</th>\n",
              "      <th>...</th>\n",
              "      <th>place_type</th>\n",
              "      <th>place_country_code</th>\n",
              "      <th>place_country</th>\n",
              "      <th>place_contained_within</th>\n",
              "      <th>place_attributes</th>\n",
              "      <th>place_bounding_box</th>\n",
              "      <th>source_url</th>\n",
              "      <th>truncated</th>\n",
              "      <th>entities</th>\n",
              "      <th>extended_entities</th>\n",
              "    </tr>\n",
              "  </thead>\n",
              "  <tbody>\n",
              "    <tr>\n",
              "      <th>0</th>\n",
              "      <td>780925634159796224</td>\n",
              "      <td>HillaryClinton</td>\n",
              "      <td>The question in this election: Who can put the...</td>\n",
              "      <td>False</td>\n",
              "      <td>NaN</td>\n",
              "      <td>2016-09-28T00:22:34</td>\n",
              "      <td>NaN</td>\n",
              "      <td>NaN</td>\n",
              "      <td>NaN</td>\n",
              "      <td>False</td>\n",
              "      <td>...</td>\n",
              "      <td>NaN</td>\n",
              "      <td>NaN</td>\n",
              "      <td>NaN</td>\n",
              "      <td>NaN</td>\n",
              "      <td>NaN</td>\n",
              "      <td>NaN</td>\n",
              "      <td>https://studio.twitter.com</td>\n",
              "      <td>False</td>\n",
              "      <td>{'media': [{'display_url': 'pic.twitter.com/Xr...</td>\n",
              "      <td>{'media': [{'display_url': 'pic.twitter.com/Xr...</td>\n",
              "    </tr>\n",
              "    <tr>\n",
              "      <th>1</th>\n",
              "      <td>780916180899037184</td>\n",
              "      <td>HillaryClinton</td>\n",
              "      <td>Last night, Donald Trump said not paying taxes...</td>\n",
              "      <td>True</td>\n",
              "      <td>timkaine</td>\n",
              "      <td>2016-09-27T23:45:00</td>\n",
              "      <td>NaN</td>\n",
              "      <td>NaN</td>\n",
              "      <td>NaN</td>\n",
              "      <td>False</td>\n",
              "      <td>...</td>\n",
              "      <td>NaN</td>\n",
              "      <td>NaN</td>\n",
              "      <td>NaN</td>\n",
              "      <td>NaN</td>\n",
              "      <td>NaN</td>\n",
              "      <td>NaN</td>\n",
              "      <td>http://twitter.com</td>\n",
              "      <td>False</td>\n",
              "      <td>{'media': [{'display_url': 'pic.twitter.com/t0...</td>\n",
              "      <td>{'media': [{'display_url': 'pic.twitter.com/t0...</td>\n",
              "    </tr>\n",
              "    <tr>\n",
              "      <th>2</th>\n",
              "      <td>780911564857761793</td>\n",
              "      <td>HillaryClinton</td>\n",
              "      <td>Couldn't be more proud of @HillaryClinton. Her...</td>\n",
              "      <td>True</td>\n",
              "      <td>POTUS</td>\n",
              "      <td>2016-09-27T23:26:40</td>\n",
              "      <td>NaN</td>\n",
              "      <td>NaN</td>\n",
              "      <td>NaN</td>\n",
              "      <td>False</td>\n",
              "      <td>...</td>\n",
              "      <td>NaN</td>\n",
              "      <td>NaN</td>\n",
              "      <td>NaN</td>\n",
              "      <td>NaN</td>\n",
              "      <td>NaN</td>\n",
              "      <td>NaN</td>\n",
              "      <td>https://about.twitter.com/products/tweetdeck</td>\n",
              "      <td>False</td>\n",
              "      <td>{'user_mentions': [{'id_str': '1536791610', 'n...</td>\n",
              "      <td>NaN</td>\n",
              "    </tr>\n",
              "    <tr>\n",
              "      <th>3</th>\n",
              "      <td>780907038650068994</td>\n",
              "      <td>HillaryClinton</td>\n",
              "      <td>If we stand together, there's nothing we can't...</td>\n",
              "      <td>False</td>\n",
              "      <td>NaN</td>\n",
              "      <td>2016-09-27T23:08:41</td>\n",
              "      <td>NaN</td>\n",
              "      <td>NaN</td>\n",
              "      <td>NaN</td>\n",
              "      <td>False</td>\n",
              "      <td>...</td>\n",
              "      <td>NaN</td>\n",
              "      <td>NaN</td>\n",
              "      <td>NaN</td>\n",
              "      <td>NaN</td>\n",
              "      <td>NaN</td>\n",
              "      <td>NaN</td>\n",
              "      <td>https://studio.twitter.com</td>\n",
              "      <td>False</td>\n",
              "      <td>{'media': [{'display_url': 'pic.twitter.com/Q3...</td>\n",
              "      <td>{'media': [{'display_url': 'pic.twitter.com/Q3...</td>\n",
              "    </tr>\n",
              "    <tr>\n",
              "      <th>4</th>\n",
              "      <td>780897419462602752</td>\n",
              "      <td>HillaryClinton</td>\n",
              "      <td>Both candidates were asked about how they'd co...</td>\n",
              "      <td>False</td>\n",
              "      <td>NaN</td>\n",
              "      <td>2016-09-27T22:30:27</td>\n",
              "      <td>NaN</td>\n",
              "      <td>NaN</td>\n",
              "      <td>NaN</td>\n",
              "      <td>False</td>\n",
              "      <td>...</td>\n",
              "      <td>NaN</td>\n",
              "      <td>NaN</td>\n",
              "      <td>NaN</td>\n",
              "      <td>NaN</td>\n",
              "      <td>NaN</td>\n",
              "      <td>NaN</td>\n",
              "      <td>https://about.twitter.com/products/tweetdeck</td>\n",
              "      <td>False</td>\n",
              "      <td>{'user_mentions': [], 'symbols': [], 'urls': [...</td>\n",
              "      <td>NaN</td>\n",
              "    </tr>\n",
              "  </tbody>\n",
              "</table>\n",
              "<p>5 rows × 28 columns</p>\n",
              "</div>"
            ],
            "text/plain": [
              "                   id          handle  \\\n",
              "0  780925634159796224  HillaryClinton   \n",
              "1  780916180899037184  HillaryClinton   \n",
              "2  780911564857761793  HillaryClinton   \n",
              "3  780907038650068994  HillaryClinton   \n",
              "4  780897419462602752  HillaryClinton   \n",
              "\n",
              "                                                text  is_retweet  \\\n",
              "0  The question in this election: Who can put the...       False   \n",
              "1  Last night, Donald Trump said not paying taxes...        True   \n",
              "2  Couldn't be more proud of @HillaryClinton. Her...        True   \n",
              "3  If we stand together, there's nothing we can't...       False   \n",
              "4  Both candidates were asked about how they'd co...       False   \n",
              "\n",
              "  original_author                 time in_reply_to_screen_name  \\\n",
              "0             NaN  2016-09-28T00:22:34                     NaN   \n",
              "1        timkaine  2016-09-27T23:45:00                     NaN   \n",
              "2           POTUS  2016-09-27T23:26:40                     NaN   \n",
              "3             NaN  2016-09-27T23:08:41                     NaN   \n",
              "4             NaN  2016-09-27T22:30:27                     NaN   \n",
              "\n",
              "   in_reply_to_status_id  in_reply_to_user_id  is_quote_status  ...  \\\n",
              "0                    NaN                  NaN            False  ...   \n",
              "1                    NaN                  NaN            False  ...   \n",
              "2                    NaN                  NaN            False  ...   \n",
              "3                    NaN                  NaN            False  ...   \n",
              "4                    NaN                  NaN            False  ...   \n",
              "\n",
              "  place_type  place_country_code  place_country  place_contained_within  \\\n",
              "0        NaN                 NaN            NaN                     NaN   \n",
              "1        NaN                 NaN            NaN                     NaN   \n",
              "2        NaN                 NaN            NaN                     NaN   \n",
              "3        NaN                 NaN            NaN                     NaN   \n",
              "4        NaN                 NaN            NaN                     NaN   \n",
              "\n",
              "   place_attributes place_bounding_box  \\\n",
              "0               NaN                NaN   \n",
              "1               NaN                NaN   \n",
              "2               NaN                NaN   \n",
              "3               NaN                NaN   \n",
              "4               NaN                NaN   \n",
              "\n",
              "                                     source_url truncated  \\\n",
              "0                    https://studio.twitter.com     False   \n",
              "1                            http://twitter.com     False   \n",
              "2  https://about.twitter.com/products/tweetdeck     False   \n",
              "3                    https://studio.twitter.com     False   \n",
              "4  https://about.twitter.com/products/tweetdeck     False   \n",
              "\n",
              "                                            entities  \\\n",
              "0  {'media': [{'display_url': 'pic.twitter.com/Xr...   \n",
              "1  {'media': [{'display_url': 'pic.twitter.com/t0...   \n",
              "2  {'user_mentions': [{'id_str': '1536791610', 'n...   \n",
              "3  {'media': [{'display_url': 'pic.twitter.com/Q3...   \n",
              "4  {'user_mentions': [], 'symbols': [], 'urls': [...   \n",
              "\n",
              "                                   extended_entities  \n",
              "0  {'media': [{'display_url': 'pic.twitter.com/Xr...  \n",
              "1  {'media': [{'display_url': 'pic.twitter.com/t0...  \n",
              "2                                                NaN  \n",
              "3  {'media': [{'display_url': 'pic.twitter.com/Q3...  \n",
              "4                                                NaN  \n",
              "\n",
              "[5 rows x 28 columns]"
            ]
          },
          "execution_count": 18,
          "metadata": {},
          "output_type": "execute_result"
        }
      ],
      "source": [
        "tweets = pd.read_csv(\"data/tweets.csv\")\n",
        "embedding_path = \"data/crawl-300d-2M.vec\"\n",
        "tweets.head()"
      ]
    },
    {
      "cell_type": "code",
      "execution_count": null,
      "metadata": {
        "_uuid": "c3fb5b2997d3a57cf7784370d915f389629efd89",
        "id": "9cnWDQkiWA-Z",
        "outputId": "8565944b-1732-4a90-e23f-4d5b664c3789"
      },
      "outputs": [
        {
          "data": {
            "text/plain": [
              "(6444, 28)"
            ]
          },
          "execution_count": 7,
          "metadata": {},
          "output_type": "execute_result"
        }
      ],
      "source": [
        "tweets.shape"
      ]
    },
    {
      "cell_type": "markdown",
      "metadata": {
        "_uuid": "5b03636f1aced6ec96d0a718da5b405c0dc0c49f",
        "id": "hjNsLPhyWA-a"
      },
      "source": [
        "We see that there are a total of 6444 tweets, and as it will be shown below they are almost evenly distributed between Hillary and Trump. This may seem like a lot of tweets, but for text classification this would be a very small amount of data."
      ]
    },
    {
      "cell_type": "markdown",
      "metadata": {
        "_uuid": "6fac676d60c8c545bd3c1d79e9d73beb815a69e4",
        "id": "EKHrjBDbWA-a"
      },
      "source": [
        "We will embed words from these tweets into a word-vector space using one of the previously trained word embeddings. Here we use a 300-dimensional vector space that comes curtesy of FastText. We will also limit the length of text to 220 words. This is an overkill for tweets, but for general purpose it is rather small text length. The original was aimed at much longer text sizes, and this was a reasonable length for those purposes. The best embedding that we used in Toxic limited length to 900 words."
      ]
    },
    {
      "cell_type": "code",
      "execution_count": null,
      "metadata": {
        "_uuid": "335e2f117d5589192471f68ba48531e7705f151e",
        "id": "kYGNGmbAWA-b"
      },
      "outputs": [],
      "source": [
        "embed_size = 300\n",
        "max_features = 130000\n",
        "max_len = 220\n",
        "\n",
        "tweets[\"text\"].fillna(\"no comment\")\n",
        "list_classes = [\"toxic\", \"severe_toxic\", \"obscene\", \"threat\", \"insult\", \"identity_hate\"]\n",
        "raw_text = tweets[\"text\"].str.lower()\n"
      ]
    },
    {
      "cell_type": "markdown",
      "metadata": {
        "_uuid": "f155cea17d19a9750077b0d80a19d4f10ffce796",
        "id": "gC78LnLfWA-c"
      },
      "source": [
        "In order for our pretrained models to work, we need to transform the text here into the appropriate vectorized format."
      ]
    },
    {
      "cell_type": "code",
      "execution_count": null,
      "metadata": {
        "_uuid": "3e9e4f7a5a4d33270598f1063fd0f91b7dd81004",
        "id": "N_e2rRwfWA-c"
      },
      "outputs": [],
      "source": [
        "tk = Tokenizer(num_words = max_features, lower = True)\n",
        "tk.fit_on_texts(raw_text)\n",
        "tweets[\"comment_seq\"] = tk.texts_to_sequences(raw_text)"
      ]
    },
    {
      "cell_type": "markdown",
      "metadata": {
        "_uuid": "f856e3fa77a481337e222b3729934713afbc1aaf",
        "id": "WTl7obmuWA-d"
      },
      "source": [
        "We also need to pad the tweets that are less than 220 words, which is essentially all of them."
      ]
    },
    {
      "cell_type": "code",
      "execution_count": null,
      "metadata": {
        "_uuid": "74d19797081af548c3f8e38f5340312305168332",
        "id": "jJ1fNQnNWA-e"
      },
      "outputs": [],
      "source": [
        "tweets_pad_sequences = pad_sequences(tweets.comment_seq, maxlen = max_len)"
      ]
    },
    {
      "cell_type": "code",
      "execution_count": null,
      "metadata": {
        "_uuid": "37b607e0a46156de96654ee71a045aeee1380f74",
        "id": "Dp8jb1D2WA-e",
        "outputId": "726e06e6-91c2-4cec-90d7-ba03bfe0e065"
      },
      "outputs": [
        {
          "data": {
            "text/plain": [
              "(6444, 220)"
            ]
          },
          "execution_count": 11,
          "metadata": {},
          "output_type": "execute_result"
        }
      ],
      "source": [
        "tweets_pad_sequences.shape"
      ]
    },
    {
      "cell_type": "code",
      "execution_count": null,
      "metadata": {
        "_uuid": "ef37ea853f9688615f5313eea7a695e177d8ea59",
        "id": "P6lrRlxVWA-f",
        "outputId": "e4376e5f-e7be-4eff-dc29-7d902dca0207"
      },
      "outputs": [
        {
          "data": {
            "text/plain": [
              "array([[    0,     0,     0, ...,     1,     2,  4988],\n",
              "       [    0,     0,     0, ...,     1,     2,  4990],\n",
              "       [    0,     0,     0, ...,    22,   247,    99],\n",
              "       ...,\n",
              "       [    0,     0,     0, ...,     1,     2, 14112],\n",
              "       [    0,     0,     0, ...,   607,    43,    19],\n",
              "       [    0,     0,     0, ...,    85,    11,   432]])"
            ]
          },
          "execution_count": 12,
          "metadata": {},
          "output_type": "execute_result"
        }
      ],
      "source": [
        "tweets_pad_sequences"
      ]
    },
    {
      "cell_type": "markdown",
      "metadata": {
        "_uuid": "015144ba1cb1002cdfa25e953f59c2286eb3a056",
        "id": "1ySAx40ZWA-f"
      },
      "source": [
        "This is one big 6444x220 array. We'll now need to construc an embedding index, that puts each one of the words into a 300-dimensional vector space:"
      ]
    },
    {
      "cell_type": "markdown",
      "metadata": {
        "_uuid": "505b9be077cddd28edbe9820bbbf439b0161fae8",
        "id": "30-nYmcIWA-f"
      },
      "source": []
    },
    {
      "cell_type": "code",
      "execution_count": null,
      "metadata": {
        "_uuid": "b3bac547a3dc3fabbd1a502e8873f7695218a71e",
        "id": "ERpjWudrWA-g"
      },
      "outputs": [],
      "source": [
        "def get_coefs(word,*arr): return word, np.asarray(arr, dtype='float32')\n",
        "\n",
        "\n",
        "\n",
        "embedding_index = dict(get_coefs(*o.strip().split(\" \")) for o in open(embedding_path, encoding=\"utf8\"))"
      ]
    },
    {
      "cell_type": "code",
      "execution_count": null,
      "metadata": {
        "_uuid": "9fc88ffde55c48378190c923e811dfa18abc60a1",
        "id": "WMMvZ4joWA-g"
      },
      "outputs": [],
      "source": [
        "word_index = tk.word_index\n",
        "nb_words = min(max_features, len(word_index))\n",
        "embedding_matrix = np.zeros((nb_words, embed_size))\n",
        "for word, i in word_index.items():\n",
        "    if i >= max_features: continue\n",
        "    embedding_vector = embedding_index.get(word)\n",
        "    if embedding_vector is not None: embedding_matrix[i] = embedding_vector"
      ]
    },
    {
      "cell_type": "markdown",
      "metadata": {
        "_uuid": "2e965b2b78b120f311f606f7fb46e7ce73c40481",
        "id": "_dyRQhMDWA-g"
      },
      "source": [
        "Now we'll load the actual trained model and make the predictions on our data."
      ]
    },
    {
      "cell_type": "code",
      "execution_count": null,
      "metadata": {
        "_uuid": "fb57e6c28f8e3871fecc1d7e31f460626fb1acb2",
        "id": "1XdPA8odWA-h"
      },
      "outputs": [],
      "source": [
        "# model = load_model(\"../input/bi-gru-lstm-cnn-poolings-fasttext/best_model.hdf5\")\n",
        "model = load_model(\"data/best_model.hdf5\")"
      ]
    },
    {
      "cell_type": "code",
      "execution_count": null,
      "metadata": {
        "_uuid": "d578146b62edd00979d4eab83530c1e21a177392",
        "id": "jOYweR8lWA-h",
        "outputId": "ad1931bd-94b3-4221-e041-241f215f4ec5"
      },
      "outputs": [
        {
          "name": "stdout",
          "output_type": "stream",
          "text": [
            "7/7 [==============================] - 157s 19s/step\n"
          ]
        }
      ],
      "source": [
        "pred = model.predict(tweets_pad_sequences, batch_size = 1024, verbose = 1)"
      ]
    },
    {
      "cell_type": "markdown",
      "metadata": {
        "_uuid": "3a35909f6f05f875ab2226e4dd6d287afcef9ab2",
        "id": "8ICZ-ETTWA-h"
      },
      "source": [
        "Let's see what's the maximum probability for this model:"
      ]
    },
    {
      "cell_type": "code",
      "execution_count": null,
      "metadata": {
        "_uuid": "7586783e70fe3e2e71e7d681709a1d008751b8b8",
        "id": "Viw1cHD2WA-h",
        "outputId": "0af0a7f9-c41a-41ef-d05d-03f422a783b4"
      },
      "outputs": [
        {
          "data": {
            "text/plain": [
              "0.9961728"
            ]
          },
          "execution_count": 24,
          "metadata": {},
          "output_type": "execute_result"
        }
      ],
      "source": [
        "pred.max()"
      ]
    },
    {
      "cell_type": "markdown",
      "metadata": {
        "_uuid": "8244e11aafbcfa55bc1ecb468e426fa0259654a5",
        "id": "nrJ_ExrBWA-i"
      },
      "source": [
        "In other words, at nearly 1.0 probability the model seems pretty confident about the \"toxicity\" of some of the tweets.\n",
        "\n",
        "Now let's put the predictions into a dataframe, so we can have a better view of them and how they relate to the actual tweets."
      ]
    },
    {
      "cell_type": "code",
      "execution_count": null,
      "metadata": {
        "_uuid": "b31535fc354647f78f6e2a6b0fc93d898bbe0e85",
        "id": "SoDnoAM2WA-i"
      },
      "outputs": [],
      "source": [
        "toxic_predictions = pd.DataFrame(columns=list_classes, data=pred)"
      ]
    },
    {
      "cell_type": "code",
      "execution_count": null,
      "metadata": {
        "_uuid": "7e7b86d173c2c260d117dcc15611f4eabbbe30b9",
        "id": "svrRI6K7WA-i",
        "outputId": "388258ca-43de-4334-e8c7-880db6f69332"
      },
      "outputs": [
        {
          "data": {
            "text/html": [
              "<div>\n",
              "<style scoped>\n",
              "    .dataframe tbody tr th:only-of-type {\n",
              "        vertical-align: middle;\n",
              "    }\n",
              "\n",
              "    .dataframe tbody tr th {\n",
              "        vertical-align: top;\n",
              "    }\n",
              "\n",
              "    .dataframe thead th {\n",
              "        text-align: right;\n",
              "    }\n",
              "</style>\n",
              "<table border=\"1\" class=\"dataframe\">\n",
              "  <thead>\n",
              "    <tr style=\"text-align: right;\">\n",
              "      <th></th>\n",
              "      <th>toxic</th>\n",
              "      <th>severe_toxic</th>\n",
              "      <th>obscene</th>\n",
              "      <th>threat</th>\n",
              "      <th>insult</th>\n",
              "      <th>identity_hate</th>\n",
              "    </tr>\n",
              "  </thead>\n",
              "  <tbody>\n",
              "    <tr>\n",
              "      <th>0</th>\n",
              "      <td>0.000846</td>\n",
              "      <td>0.000029</td>\n",
              "      <td>0.000167</td>\n",
              "      <td>0.000059</td>\n",
              "      <td>0.000152</td>\n",
              "      <td>0.000023</td>\n",
              "    </tr>\n",
              "    <tr>\n",
              "      <th>1</th>\n",
              "      <td>0.001049</td>\n",
              "      <td>0.000071</td>\n",
              "      <td>0.000155</td>\n",
              "      <td>0.000051</td>\n",
              "      <td>0.000328</td>\n",
              "      <td>0.000067</td>\n",
              "    </tr>\n",
              "    <tr>\n",
              "      <th>2</th>\n",
              "      <td>0.015830</td>\n",
              "      <td>0.000055</td>\n",
              "      <td>0.001043</td>\n",
              "      <td>0.000120</td>\n",
              "      <td>0.002082</td>\n",
              "      <td>0.000319</td>\n",
              "    </tr>\n",
              "    <tr>\n",
              "      <th>3</th>\n",
              "      <td>0.000208</td>\n",
              "      <td>0.000012</td>\n",
              "      <td>0.000053</td>\n",
              "      <td>0.000012</td>\n",
              "      <td>0.000069</td>\n",
              "      <td>0.000007</td>\n",
              "    </tr>\n",
              "    <tr>\n",
              "      <th>4</th>\n",
              "      <td>0.008854</td>\n",
              "      <td>0.000090</td>\n",
              "      <td>0.000727</td>\n",
              "      <td>0.000030</td>\n",
              "      <td>0.001290</td>\n",
              "      <td>0.000897</td>\n",
              "    </tr>\n",
              "  </tbody>\n",
              "</table>\n",
              "</div>"
            ],
            "text/plain": [
              "      toxic  severe_toxic   obscene    threat    insult  identity_hate\n",
              "0  0.000846      0.000029  0.000167  0.000059  0.000152       0.000023\n",
              "1  0.001049      0.000071  0.000155  0.000051  0.000328       0.000067\n",
              "2  0.015830      0.000055  0.001043  0.000120  0.002082       0.000319\n",
              "3  0.000208      0.000012  0.000053  0.000012  0.000069       0.000007\n",
              "4  0.008854      0.000090  0.000727  0.000030  0.001290       0.000897"
            ]
          },
          "execution_count": 26,
          "metadata": {},
          "output_type": "execute_result"
        }
      ],
      "source": [
        "toxic_predictions.head()"
      ]
    },
    {
      "cell_type": "code",
      "execution_count": null,
      "metadata": {
        "_uuid": "1bbc5bda143590b8078c76430e25b22f1d603a37",
        "id": "iFDzAX-1WA-j"
      },
      "outputs": [],
      "source": [
        "toxic_predictions['id'] = tweets['id'].values\n",
        "toxic_predictions['handle'] = tweets['handle'].values\n",
        "toxic_predictions['text'] = tweets['text'].values"
      ]
    },
    {
      "cell_type": "code",
      "execution_count": null,
      "metadata": {
        "_uuid": "cbe592c2aedee0c4261baa4f187edd84d24309a6",
        "id": "NGb-ZgIPWA-j",
        "outputId": "c34b7f39-2abf-4091-9a3b-6e0cc1b9c0b1"
      },
      "outputs": [
        {
          "data": {
            "text/html": [
              "<div>\n",
              "<style scoped>\n",
              "    .dataframe tbody tr th:only-of-type {\n",
              "        vertical-align: middle;\n",
              "    }\n",
              "\n",
              "    .dataframe tbody tr th {\n",
              "        vertical-align: top;\n",
              "    }\n",
              "\n",
              "    .dataframe thead th {\n",
              "        text-align: right;\n",
              "    }\n",
              "</style>\n",
              "<table border=\"1\" class=\"dataframe\">\n",
              "  <thead>\n",
              "    <tr style=\"text-align: right;\">\n",
              "      <th></th>\n",
              "      <th>toxic</th>\n",
              "      <th>severe_toxic</th>\n",
              "      <th>obscene</th>\n",
              "      <th>threat</th>\n",
              "      <th>insult</th>\n",
              "      <th>identity_hate</th>\n",
              "      <th>id</th>\n",
              "      <th>handle</th>\n",
              "      <th>text</th>\n",
              "    </tr>\n",
              "  </thead>\n",
              "  <tbody>\n",
              "    <tr>\n",
              "      <th>6439</th>\n",
              "      <td>0.592155</td>\n",
              "      <td>0.004808</td>\n",
              "      <td>0.167652</td>\n",
              "      <td>0.000283</td>\n",
              "      <td>0.077661</td>\n",
              "      <td>0.029017</td>\n",
              "      <td>684219579548041218</td>\n",
              "      <td>realDonaldTrump</td>\n",
              "      <td>\"@lilredfrmkokomo: @realDonaldTrump My Faceboo...</td>\n",
              "    </tr>\n",
              "    <tr>\n",
              "      <th>6440</th>\n",
              "      <td>0.001247</td>\n",
              "      <td>0.000068</td>\n",
              "      <td>0.000264</td>\n",
              "      <td>0.000032</td>\n",
              "      <td>0.000265</td>\n",
              "      <td>0.000030</td>\n",
              "      <td>684218836569206784</td>\n",
              "      <td>realDonaldTrump</td>\n",
              "      <td>\"@marybnall01: @realDonaldTrump watched lowell...</td>\n",
              "    </tr>\n",
              "    <tr>\n",
              "      <th>6441</th>\n",
              "      <td>0.001867</td>\n",
              "      <td>0.000085</td>\n",
              "      <td>0.000290</td>\n",
              "      <td>0.000881</td>\n",
              "      <td>0.000250</td>\n",
              "      <td>0.000032</td>\n",
              "      <td>684218305100525569</td>\n",
              "      <td>realDonaldTrump</td>\n",
              "      <td>\"@ghosthunter_lol: Iowa key endorsement for @r...</td>\n",
              "    </tr>\n",
              "    <tr>\n",
              "      <th>6442</th>\n",
              "      <td>0.035537</td>\n",
              "      <td>0.000772</td>\n",
              "      <td>0.003498</td>\n",
              "      <td>0.000146</td>\n",
              "      <td>0.011440</td>\n",
              "      <td>0.002357</td>\n",
              "      <td>684217554861199360</td>\n",
              "      <td>realDonaldTrump</td>\n",
              "      <td>\"@iLoveiDevices: @EdwinRo47796972 @happyjack22...</td>\n",
              "    </tr>\n",
              "    <tr>\n",
              "      <th>6443</th>\n",
              "      <td>0.000333</td>\n",
              "      <td>0.000028</td>\n",
              "      <td>0.000094</td>\n",
              "      <td>0.000038</td>\n",
              "      <td>0.000116</td>\n",
              "      <td>0.000011</td>\n",
              "      <td>684216973815844866</td>\n",
              "      <td>realDonaldTrump</td>\n",
              "      <td>\"@SalRiccobono: @realDonaldTrump @troyconway D...</td>\n",
              "    </tr>\n",
              "  </tbody>\n",
              "</table>\n",
              "</div>"
            ],
            "text/plain": [
              "         toxic  severe_toxic   obscene    threat    insult  identity_hate  \\\n",
              "6439  0.592155      0.004808  0.167652  0.000283  0.077661       0.029017   \n",
              "6440  0.001247      0.000068  0.000264  0.000032  0.000265       0.000030   \n",
              "6441  0.001867      0.000085  0.000290  0.000881  0.000250       0.000032   \n",
              "6442  0.035537      0.000772  0.003498  0.000146  0.011440       0.002357   \n",
              "6443  0.000333      0.000028  0.000094  0.000038  0.000116       0.000011   \n",
              "\n",
              "                      id           handle  \\\n",
              "6439  684219579548041218  realDonaldTrump   \n",
              "6440  684218836569206784  realDonaldTrump   \n",
              "6441  684218305100525569  realDonaldTrump   \n",
              "6442  684217554861199360  realDonaldTrump   \n",
              "6443  684216973815844866  realDonaldTrump   \n",
              "\n",
              "                                                   text  \n",
              "6439  \"@lilredfrmkokomo: @realDonaldTrump My Faceboo...  \n",
              "6440  \"@marybnall01: @realDonaldTrump watched lowell...  \n",
              "6441  \"@ghosthunter_lol: Iowa key endorsement for @r...  \n",
              "6442  \"@iLoveiDevices: @EdwinRo47796972 @happyjack22...  \n",
              "6443  \"@SalRiccobono: @realDonaldTrump @troyconway D...  "
            ]
          },
          "execution_count": 28,
          "metadata": {},
          "output_type": "execute_result"
        }
      ],
      "source": [
        "toxic_predictions.tail()"
      ]
    },
    {
      "cell_type": "code",
      "execution_count": null,
      "metadata": {
        "_uuid": "221918c1766e3947fd0f31e857b96898d971de26",
        "id": "09LBCusaWA-j"
      },
      "outputs": [],
      "source": [
        "Hillary_predictions = toxic_predictions[toxic_predictions['handle'] == 'HillaryClinton']\n",
        "Trump_predictions = toxic_predictions[toxic_predictions['handle'] == 'realDonaldTrump']"
      ]
    },
    {
      "cell_type": "code",
      "execution_count": null,
      "metadata": {
        "_uuid": "6bd05dd0371740dfd8d5f37b6559e024fe4c19d8",
        "id": "4ClJP-JuWA-k",
        "outputId": "5a2be0de-10dc-46d2-c8a7-3762c855de17"
      },
      "outputs": [
        {
          "data": {
            "text/html": [
              "<div>\n",
              "<style scoped>\n",
              "    .dataframe tbody tr th:only-of-type {\n",
              "        vertical-align: middle;\n",
              "    }\n",
              "\n",
              "    .dataframe tbody tr th {\n",
              "        vertical-align: top;\n",
              "    }\n",
              "\n",
              "    .dataframe thead th {\n",
              "        text-align: right;\n",
              "    }\n",
              "</style>\n",
              "<table border=\"1\" class=\"dataframe\">\n",
              "  <thead>\n",
              "    <tr style=\"text-align: right;\">\n",
              "      <th></th>\n",
              "      <th>toxic</th>\n",
              "      <th>severe_toxic</th>\n",
              "      <th>obscene</th>\n",
              "      <th>threat</th>\n",
              "      <th>insult</th>\n",
              "      <th>identity_hate</th>\n",
              "    </tr>\n",
              "  </thead>\n",
              "  <tbody>\n",
              "    <tr>\n",
              "      <th>count</th>\n",
              "      <td>3226.000000</td>\n",
              "      <td>3226.000000</td>\n",
              "      <td>3226.000000</td>\n",
              "      <td>3226.000000</td>\n",
              "      <td>3226.000000</td>\n",
              "      <td>3226.000000</td>\n",
              "    </tr>\n",
              "    <tr>\n",
              "      <th>mean</th>\n",
              "      <td>0.103825</td>\n",
              "      <td>0.002217</td>\n",
              "      <td>0.055691</td>\n",
              "      <td>0.000290</td>\n",
              "      <td>0.025913</td>\n",
              "      <td>0.003954</td>\n",
              "    </tr>\n",
              "    <tr>\n",
              "      <th>std</th>\n",
              "      <td>0.243001</td>\n",
              "      <td>0.011727</td>\n",
              "      <td>0.178810</td>\n",
              "      <td>0.001518</td>\n",
              "      <td>0.092605</td>\n",
              "      <td>0.029791</td>\n",
              "    </tr>\n",
              "    <tr>\n",
              "      <th>min</th>\n",
              "      <td>0.000095</td>\n",
              "      <td>0.000003</td>\n",
              "      <td>0.000035</td>\n",
              "      <td>0.000002</td>\n",
              "      <td>0.000031</td>\n",
              "      <td>0.000003</td>\n",
              "    </tr>\n",
              "    <tr>\n",
              "      <th>25%</th>\n",
              "      <td>0.001215</td>\n",
              "      <td>0.000033</td>\n",
              "      <td>0.000166</td>\n",
              "      <td>0.000030</td>\n",
              "      <td>0.000229</td>\n",
              "      <td>0.000028</td>\n",
              "    </tr>\n",
              "    <tr>\n",
              "      <th>50%</th>\n",
              "      <td>0.003296</td>\n",
              "      <td>0.000064</td>\n",
              "      <td>0.000325</td>\n",
              "      <td>0.000070</td>\n",
              "      <td>0.000550</td>\n",
              "      <td>0.000076</td>\n",
              "    </tr>\n",
              "    <tr>\n",
              "      <th>75%</th>\n",
              "      <td>0.023843</td>\n",
              "      <td>0.000213</td>\n",
              "      <td>0.001412</td>\n",
              "      <td>0.000177</td>\n",
              "      <td>0.003222</td>\n",
              "      <td>0.000427</td>\n",
              "    </tr>\n",
              "    <tr>\n",
              "      <th>max</th>\n",
              "      <td>0.996173</td>\n",
              "      <td>0.208587</td>\n",
              "      <td>0.985563</td>\n",
              "      <td>0.066431</td>\n",
              "      <td>0.883512</td>\n",
              "      <td>0.877295</td>\n",
              "    </tr>\n",
              "  </tbody>\n",
              "</table>\n",
              "</div>"
            ],
            "text/plain": [
              "             toxic  severe_toxic      obscene       threat       insult  \\\n",
              "count  3226.000000   3226.000000  3226.000000  3226.000000  3226.000000   \n",
              "mean      0.103825      0.002217     0.055691     0.000290     0.025913   \n",
              "std       0.243001      0.011727     0.178810     0.001518     0.092605   \n",
              "min       0.000095      0.000003     0.000035     0.000002     0.000031   \n",
              "25%       0.001215      0.000033     0.000166     0.000030     0.000229   \n",
              "50%       0.003296      0.000064     0.000325     0.000070     0.000550   \n",
              "75%       0.023843      0.000213     0.001412     0.000177     0.003222   \n",
              "max       0.996173      0.208587     0.985563     0.066431     0.883512   \n",
              "\n",
              "       identity_hate  \n",
              "count    3226.000000  \n",
              "mean        0.003954  \n",
              "std         0.029791  \n",
              "min         0.000003  \n",
              "25%         0.000028  \n",
              "50%         0.000076  \n",
              "75%         0.000427  \n",
              "max         0.877295  "
            ]
          },
          "execution_count": 30,
          "metadata": {},
          "output_type": "execute_result"
        }
      ],
      "source": [
        "Hillary_predictions[list_classes].describe()"
      ]
    },
    {
      "cell_type": "code",
      "execution_count": null,
      "metadata": {
        "_uuid": "23fdbf507ee2c181d436c064998f5e981fcc119a",
        "id": "fVaKxn8QWA-k",
        "outputId": "26c27677-4159-4af7-fea8-747574184041"
      },
      "outputs": [
        {
          "data": {
            "text/html": [
              "<div>\n",
              "<style scoped>\n",
              "    .dataframe tbody tr th:only-of-type {\n",
              "        vertical-align: middle;\n",
              "    }\n",
              "\n",
              "    .dataframe tbody tr th {\n",
              "        vertical-align: top;\n",
              "    }\n",
              "\n",
              "    .dataframe thead th {\n",
              "        text-align: right;\n",
              "    }\n",
              "</style>\n",
              "<table border=\"1\" class=\"dataframe\">\n",
              "  <thead>\n",
              "    <tr style=\"text-align: right;\">\n",
              "      <th></th>\n",
              "      <th>toxic</th>\n",
              "      <th>severe_toxic</th>\n",
              "      <th>obscene</th>\n",
              "      <th>threat</th>\n",
              "      <th>insult</th>\n",
              "      <th>identity_hate</th>\n",
              "    </tr>\n",
              "  </thead>\n",
              "  <tbody>\n",
              "    <tr>\n",
              "      <th>count</th>\n",
              "      <td>3218.000000</td>\n",
              "      <td>3218.000000</td>\n",
              "      <td>3218.000000</td>\n",
              "      <td>3218.000000</td>\n",
              "      <td>3218.000000</td>\n",
              "      <td>3218.000000</td>\n",
              "    </tr>\n",
              "    <tr>\n",
              "      <th>mean</th>\n",
              "      <td>0.088375</td>\n",
              "      <td>0.001940</td>\n",
              "      <td>0.040514</td>\n",
              "      <td>0.000531</td>\n",
              "      <td>0.026930</td>\n",
              "      <td>0.009014</td>\n",
              "    </tr>\n",
              "    <tr>\n",
              "      <th>std</th>\n",
              "      <td>0.217865</td>\n",
              "      <td>0.013019</td>\n",
              "      <td>0.147571</td>\n",
              "      <td>0.005261</td>\n",
              "      <td>0.101143</td>\n",
              "      <td>0.063727</td>\n",
              "    </tr>\n",
              "    <tr>\n",
              "      <th>min</th>\n",
              "      <td>0.000074</td>\n",
              "      <td>0.000006</td>\n",
              "      <td>0.000033</td>\n",
              "      <td>0.000003</td>\n",
              "      <td>0.000029</td>\n",
              "      <td>0.000003</td>\n",
              "    </tr>\n",
              "    <tr>\n",
              "      <th>25%</th>\n",
              "      <td>0.001293</td>\n",
              "      <td>0.000038</td>\n",
              "      <td>0.000182</td>\n",
              "      <td>0.000033</td>\n",
              "      <td>0.000253</td>\n",
              "      <td>0.000031</td>\n",
              "    </tr>\n",
              "    <tr>\n",
              "      <th>50%</th>\n",
              "      <td>0.003604</td>\n",
              "      <td>0.000077</td>\n",
              "      <td>0.000369</td>\n",
              "      <td>0.000075</td>\n",
              "      <td>0.000609</td>\n",
              "      <td>0.000079</td>\n",
              "    </tr>\n",
              "    <tr>\n",
              "      <th>75%</th>\n",
              "      <td>0.021193</td>\n",
              "      <td>0.000233</td>\n",
              "      <td>0.001423</td>\n",
              "      <td>0.000198</td>\n",
              "      <td>0.002866</td>\n",
              "      <td>0.000360</td>\n",
              "    </tr>\n",
              "    <tr>\n",
              "      <th>max</th>\n",
              "      <td>0.993352</td>\n",
              "      <td>0.366016</td>\n",
              "      <td>0.982571</td>\n",
              "      <td>0.245752</td>\n",
              "      <td>0.910398</td>\n",
              "      <td>0.926634</td>\n",
              "    </tr>\n",
              "  </tbody>\n",
              "</table>\n",
              "</div>"
            ],
            "text/plain": [
              "             toxic  severe_toxic      obscene       threat       insult  \\\n",
              "count  3218.000000   3218.000000  3218.000000  3218.000000  3218.000000   \n",
              "mean      0.088375      0.001940     0.040514     0.000531     0.026930   \n",
              "std       0.217865      0.013019     0.147571     0.005261     0.101143   \n",
              "min       0.000074      0.000006     0.000033     0.000003     0.000029   \n",
              "25%       0.001293      0.000038     0.000182     0.000033     0.000253   \n",
              "50%       0.003604      0.000077     0.000369     0.000075     0.000609   \n",
              "75%       0.021193      0.000233     0.001423     0.000198     0.002866   \n",
              "max       0.993352      0.366016     0.982571     0.245752     0.910398   \n",
              "\n",
              "       identity_hate  \n",
              "count    3218.000000  \n",
              "mean        0.009014  \n",
              "std         0.063727  \n",
              "min         0.000003  \n",
              "25%         0.000031  \n",
              "50%         0.000079  \n",
              "75%         0.000360  \n",
              "max         0.926634  "
            ]
          },
          "execution_count": 31,
          "metadata": {},
          "output_type": "execute_result"
        }
      ],
      "source": [
        "Trump_predictions[list_classes].describe()"
      ]
    },
    {
      "cell_type": "markdown",
      "metadata": {
        "_uuid": "0d39e6250fd82a99678617980d345913e59c03f0",
        "id": "miwiTCPxWA-k"
      },
      "source": []
    },
    {
      "cell_type": "markdown",
      "metadata": {
        "_uuid": "8a9ae8d21aeeedc561094de1d9de8d895a57738f",
        "id": "Y8G_hQ0FWA-k"
      },
      "source": []
    },
    {
      "cell_type": "code",
      "execution_count": null,
      "metadata": {
        "_uuid": "fc6506506a1c1da16cf3f5234dc1247ff63664e4",
        "id": "9xEQNEQFWA-l"
      },
      "outputs": [],
      "source": [
        "melt_df = pd.melt(toxic_predictions, value_vars=list_classes, id_vars='handle')"
      ]
    },
    {
      "cell_type": "code",
      "execution_count": null,
      "metadata": {
        "_uuid": "47daa52450c4ed7a4e438c933163c1a958082bd0",
        "id": "OXhSS-DFWA-l",
        "outputId": "c261b5ac-5255-4b68-93ef-d982f8094441"
      },
      "outputs": [
        {
          "data": {
            "text/html": [
              "<div>\n",
              "<style scoped>\n",
              "    .dataframe tbody tr th:only-of-type {\n",
              "        vertical-align: middle;\n",
              "    }\n",
              "\n",
              "    .dataframe tbody tr th {\n",
              "        vertical-align: top;\n",
              "    }\n",
              "\n",
              "    .dataframe thead th {\n",
              "        text-align: right;\n",
              "    }\n",
              "</style>\n",
              "<table border=\"1\" class=\"dataframe\">\n",
              "  <thead>\n",
              "    <tr style=\"text-align: right;\">\n",
              "      <th></th>\n",
              "      <th>handle</th>\n",
              "      <th>variable</th>\n",
              "      <th>value</th>\n",
              "    </tr>\n",
              "  </thead>\n",
              "  <tbody>\n",
              "    <tr>\n",
              "      <th>0</th>\n",
              "      <td>HillaryClinton</td>\n",
              "      <td>toxic</td>\n",
              "      <td>0.000846</td>\n",
              "    </tr>\n",
              "    <tr>\n",
              "      <th>1</th>\n",
              "      <td>HillaryClinton</td>\n",
              "      <td>toxic</td>\n",
              "      <td>0.001049</td>\n",
              "    </tr>\n",
              "    <tr>\n",
              "      <th>2</th>\n",
              "      <td>HillaryClinton</td>\n",
              "      <td>toxic</td>\n",
              "      <td>0.015830</td>\n",
              "    </tr>\n",
              "    <tr>\n",
              "      <th>3</th>\n",
              "      <td>HillaryClinton</td>\n",
              "      <td>toxic</td>\n",
              "      <td>0.000208</td>\n",
              "    </tr>\n",
              "    <tr>\n",
              "      <th>4</th>\n",
              "      <td>HillaryClinton</td>\n",
              "      <td>toxic</td>\n",
              "      <td>0.008854</td>\n",
              "    </tr>\n",
              "  </tbody>\n",
              "</table>\n",
              "</div>"
            ],
            "text/plain": [
              "           handle variable     value\n",
              "0  HillaryClinton    toxic  0.000846\n",
              "1  HillaryClinton    toxic  0.001049\n",
              "2  HillaryClinton    toxic  0.015830\n",
              "3  HillaryClinton    toxic  0.000208\n",
              "4  HillaryClinton    toxic  0.008854"
            ]
          },
          "execution_count": 34,
          "metadata": {},
          "output_type": "execute_result"
        }
      ],
      "source": [
        "melt_df.head()"
      ]
    },
    {
      "cell_type": "markdown",
      "metadata": {
        "_uuid": "cb4a037529b262e374199f75d27cf43cea1da7dd",
        "id": "8GUZ1Jr7WA-l"
      },
      "source": [
        "Let's plot the distributions of various values for both Hillary and Trump tweets. We'll use 'violing plots', as they seem very visually intutive and easy to understand."
      ]
    },
    {
      "cell_type": "code",
      "execution_count": null,
      "metadata": {
        "_uuid": "c372ea3ee5e7ed18e1dc3920175a0f4d4f8038c0",
        "id": "DqPuy354WA-l",
        "outputId": "3b029c59-b5f7-4e21-8784-7ea5c1ee10ec"
      },
      "outputs": [
        {
          "data": {
            "image/png": "[encoded data removed]",
            "text/plain": [
              "<Figure size 432x288 with 1 Axes>"
            ]
          },
          "metadata": {
            "needs_background": "light"
          },
          "output_type": "display_data"
        }
      ],
      "source": [
        "sns.violinplot(x='variable', y='value', hue='handle', data=melt_df)\n",
        "plt.show()"
      ]
    },
    {
      "cell_type": "markdown",
      "metadata": {
        "_uuid": "094a34eaf2a5c2a3e09007d08106e112fc0ff12c",
        "id": "kfWbEzFmWA-m"
      },
      "source": [
        "We see that for each one of the categories the outliers really skew the distributions. Maybe if we clip them we can see how the \"main\" distributions behave:"
      ]
    },
    {
      "cell_type": "code",
      "execution_count": null,
      "metadata": {
        "_uuid": "b6daae1eb74916e1343d73e1801b8114892e374c",
        "id": "TYl_4__hWA-m"
      },
      "outputs": [],
      "source": [
        "melt_df['value'] = np.clip(melt_df['value'].values, 0, 0.2)"
      ]
    },
    {
      "cell_type": "code",
      "execution_count": null,
      "metadata": {
        "_uuid": "bacda06d8a1e4fd3d47e30f1cb272a1758a41035",
        "id": "L6H1ecMwWA-m",
        "outputId": "cd086e9e-1778-413d-b0f6-c83cbb1bba66"
      },
      "outputs": [
        {
          "data": {
            "image/png": "[encoded data removed]",
            "text/plain": [
              "<Figure size 432x288 with 1 Axes>"
            ]
          },
          "metadata": {
            "needs_background": "light"
          },
          "output_type": "display_data"
        }
      ],
      "source": [
        "sns.violinplot(x='variable', y='value', hue='handle', data=melt_df)\n",
        "plt.show()"
      ]
    },
    {
      "cell_type": "markdown",
      "metadata": {
        "_uuid": "db38590fb0e31487ea54e78a0e5f2febcb4aaa39",
        "id": "e1MMpxBGWA-m"
      },
      "source": [
        "Still very skewed distributions. How about one more clipping?"
      ]
    },
    {
      "cell_type": "code",
      "execution_count": null,
      "metadata": {
        "_uuid": "d5a494972d1932196eb1bed24c864e317bb40c80",
        "id": "tcbzjJQaWA-n",
        "outputId": "705dfcec-38c3-40d1-9d36-33554309a90d"
      },
      "outputs": [
        {
          "data": {
            "image/png": "[encoded data removed]",
            "text/plain": [
              "<Figure size 432x288 with 1 Axes>"
            ]
          },
          "metadata": {
            "needs_background": "light"
          },
          "output_type": "display_data"
        }
      ],
      "source": [
        "melt_df['value'] = np.clip(melt_df['value'].values, 0, 0.05)\n",
        "sns.violinplot(x='variable', y='value', hue='handle', data=melt_df)\n",
        "plt.show()"
      ]
    },
    {
      "cell_type": "markdown",
      "metadata": {
        "_uuid": "fff3c0117d104d5794c1732f68c068234e8cae32",
        "id": "da1t7vukWA-n"
      },
      "source": [
        "Nope, still no luck. Looks like the distributions are to some extent \"scale independant\". "
      ]
    },
    {
      "cell_type": "markdown",
      "metadata": {
        "_uuid": "c73dd4a9d8495530e7be23c7458ea9d9c86c5fea",
        "id": "ogUNsog9WA-n"
      },
      "source": [
        "Based on this summary statistics, it would seem that both of them score pretty low on average for all of the \"Toxic\" categories. However, there do seem to be a few notable \"highly probable\" problemeatic tweets in each one of the six categories, with notable exception of \"threat\". Which, I think, is a good thing. For what it's worth (not much at all, IMHO), Hillary's tweets seem to be, on the average, toxic, severaly toxic, and obscene, while Trump's tweets score higher on the average for threat, insult, and identity hate. \n",
        "\n",
        "Let's see what the \"worst offenders\" are in for both candidates. Let's start with the most toxic Hillary tweet."
      ]
    },
    {
      "cell_type": "code",
      "execution_count": null,
      "metadata": {
        "_uuid": "a91580eb370993074bbaa8077d8b2494a2809434",
        "id": "07KA5HNvWA-n",
        "outputId": "3ce046a4-fd94-4caf-a862-5d0e230ffbcc"
      },
      "outputs": [
        {
          "data": {
            "text/plain": [
              "\"We don't just believe in a country where no one is left out or left behind—we're making it a reality.\\nhttps://t.co/oWVzyqrzyY\""
            ]
          },
          "execution_count": 39,
          "metadata": {},
          "output_type": "execute_result"
        }
      ],
      "source": [
        "Hillary_predictions.loc[Hillary_predictions['toxic'].idxmax()]['text']"
      ]
    },
    {
      "cell_type": "markdown",
      "metadata": {
        "_uuid": "ead3a65cbc8618412c6a68eb45ed40418a28c95e",
        "id": "ikckXNONWA-o"
      },
      "source": [
        "Meh, not really toxic. Seems like the word \"mad\", or the high frequency of special characters, have flagged this tweet as toxic. The same tweet was also marked as the top tweet in both \"severe toxic\" and \"obscene\" categories. \n",
        "\n",
        "Now let's look at \"threats\":"
      ]
    },
    {
      "cell_type": "code",
      "execution_count": null,
      "metadata": {
        "_uuid": "9c6ec654b49e788ad55d05ca7e8bcc8436890f29",
        "id": "9MCvm642WA-o",
        "outputId": "efc3ec1c-d155-4dc3-909d-4b3baa3c0a69"
      },
      "outputs": [
        {
          "name": "stdout",
          "output_type": "stream",
          "text": [
            "[\"We don't just believe in a country where no one is left out or left behind—we're making it a reality.\\nhttps://t.co/oWVzyqrzyY\"\n",
            " \"The reporting on Hillary's emails has left the basis of facts and veered into dangerous territory. https://t.co/ycp0KW7LZL\"\n",
            " 'Every 👈  time 👈 @realDonaldTrump 👈 makes 👈 you 👈 mad 👈 chip 👈 in👈  $1. https://t.co/dMjk7sxuSh https://t.co/yoDchxFpPZ'\n",
            " 'New Yorkers speak every language, worship every faith, and hail from every continent. \\n\\nOur diversity is a strength, not a weakness.'\n",
            " 'Every Voice is proud to endorse @HillaryClinton for president. https://t.co/S30v1eZtCm https://t.co/2YUAG4wPJu'\n",
            " 'Every Republican presidential candidate would reverse @POTUS’s executive actions on immigration. https://t.co/UejylRk2Qb #FightForFamilies'\n",
            " 'Donald Trump has spent his career stiffing small businesses, refusing to pay them what they’re owed. https://t.co/un2YiRLEYF'\n",
            " 'Every American willing to work hard should be able to find a job that pays enough to support a family.'\n",
            " 'Every week, @realDonaldTrump hits a new low. https://t.co/LBrTdE2n7v'\n",
            " 'Estoy indignado por la falta de acción para parar la violencia causada por armas de fuego. Es momento de actuar #HoldTheFloor #NoBillNoBreak']\n"
          ]
        }
      ],
      "source": [
        "print(Hillary_predictions.sort_values(by=['toxic'], ascending=False)['text'].head(10).values)"
      ]
    },
    {
      "cell_type": "code",
      "execution_count": null,
      "metadata": {
        "_uuid": "ca4b9ce48ef8f09effd4c5c9cffc9fa95c9ca7ee",
        "id": "DpFnkos2WA-o",
        "outputId": "bf52f48e-75ac-46ab-ccff-b63f5ec663e4"
      },
      "outputs": [
        {
          "name": "stdout",
          "output_type": "stream",
          "text": [
            "['Every 👈  time 👈 @realDonaldTrump 👈 makes 👈 you 👈 mad 👈 chip 👈 in👈  $1. https://t.co/dMjk7sxuSh https://t.co/yoDchxFpPZ'\n",
            " 'New Yorkers speak every language, worship every faith, and hail from every continent. \\n\\nOur diversity is a strength, not a weakness.'\n",
            " \"We don't just believe in a country where no one is left out or left behind—we're making it a reality.\\nhttps://t.co/oWVzyqrzyY\"\n",
            " 'Every Voice is proud to endorse @HillaryClinton for president. https://t.co/S30v1eZtCm https://t.co/2YUAG4wPJu'\n",
            " 'Every American willing to work hard should be able to find a job that pays enough to support a family.'\n",
            " 'Every week, @realDonaldTrump hits a new low. https://t.co/LBrTdE2n7v'\n",
            " 'Hoy es tu día de votar por Hillary. RT esto y déjale saber a tus amigos: #EstoyConElla https://t.co/YMh9aZEgDX'\n",
            " 'Today is #NationalVoterRegistrationDay - I was beaten, left bloody &amp; unconscious so that every person could register and vote. Do your part.'\n",
            " 'Hillary’s speaking in North Carolina on her vision to build an economy that works for everyone. Tune in: https://t.co/5VPr9qVgkv'\n",
            " 'Estoy indignado por la falta de acción para parar la violencia causada por armas de fuego. Es momento de actuar #HoldTheFloor #NoBillNoBreak']\n"
          ]
        }
      ],
      "source": [
        "print(Hillary_predictions.sort_values(by=['severe_toxic'], ascending=False)['text'].head(10).values)"
      ]
    },
    {
      "cell_type": "code",
      "execution_count": null,
      "metadata": {
        "_uuid": "b95a9da25781c61381e92273338a97b2e8dd3831",
        "id": "1YEgcRv8WA-o",
        "outputId": "4a627aac-1b3a-4e41-a88b-c2594ea18611"
      },
      "outputs": [
        {
          "name": "stdout",
          "output_type": "stream",
          "text": [
            "['New Yorkers speak every language, worship every faith, and hail from every continent. \\n\\nOur diversity is a strength, not a weakness.'\n",
            " \"We don't just believe in a country where no one is left out or left behind—we're making it a reality.\\nhttps://t.co/oWVzyqrzyY\"\n",
            " \"The reporting on Hillary's emails has left the basis of facts and veered into dangerous territory. https://t.co/ycp0KW7LZL\"\n",
            " 'Every American willing to work hard should be able to find a job that pays enough to support a family.'\n",
            " '\"What I see is Americans of every party, every background, every faith who believe that we are stronger together.” —@POTUS'\n",
            " 'Every 👈  time 👈 @realDonaldTrump 👈 makes 👈 you 👈 mad 👈 chip 👈 in👈  $1. https://t.co/dMjk7sxuSh https://t.co/yoDchxFpPZ'\n",
            " 'Every week, @realDonaldTrump hits a new low. https://t.co/LBrTdE2n7v'\n",
            " '\"I don’t want Americans to feel left out and left behind. I want the American Dream to be alive and well.\" —Hillary\\nhttps://t.co/Jds9AWz2Xw'\n",
            " 'Every American should have the opportunity to live up to their God-given potential.\\nhttps://t.co/GR4c76ouEn'\n",
            " 'Today is #NationalVoterRegistrationDay - I was beaten, left bloody &amp; unconscious so that every person could register and vote. Do your part.']\n"
          ]
        }
      ],
      "source": [
        "print(Hillary_predictions.sort_values(by=['obscene'], ascending=False)['text'].head(10).values)"
      ]
    },
    {
      "cell_type": "markdown",
      "metadata": {
        "_uuid": "a7ce87eb3d91d684186606f0282f60da8c47f5a7",
        "id": "FVibQl4hWA-p"
      },
      "source": [
        "Not really toxic, severely toxic, or obscene IMHO. Not very inspiring or humanlike either. As if a chatbot was coming up with these ..."
      ]
    },
    {
      "cell_type": "markdown",
      "metadata": {
        "_uuid": "ade415deb47eac453180b80089052285e1629b4e",
        "id": "Vjc3UaNQWA-p"
      },
      "source": [
        "How about threats?"
      ]
    },
    {
      "cell_type": "code",
      "execution_count": null,
      "metadata": {
        "_uuid": "d4cf39f5e1f523d49d2ab9f30de5a6a9d94167d8",
        "id": "kFaCKYeAWA-p",
        "outputId": "9af2accd-2064-4ea1-8087-0f17eeebf07c"
      },
      "outputs": [
        {
          "data": {
            "text/plain": [
              "'Joe and Hillary went home to Scranton. Take a behind-the-scenes look at their visit: https://t.co/xdiqa0dbdP'"
            ]
          },
          "execution_count": 43,
          "metadata": {},
          "output_type": "execute_result"
        }
      ],
      "source": [
        "Hillary_predictions.loc[Hillary_predictions['threat'].idxmax()]['text']"
      ]
    },
    {
      "cell_type": "markdown",
      "metadata": {
        "_uuid": "f5f0ceac0c8cf43c14de5dbe3ce00ef133478ee3",
        "id": "isHvRpglWA-p"
      },
      "source": [
        "Yeah, not much going on there. As predicted with very low probability of this actually being a threat."
      ]
    },
    {
      "cell_type": "code",
      "execution_count": null,
      "metadata": {
        "_uuid": "808a4595d703ff012cec985dd87c88f99242e0bd",
        "id": "HtJhWbS7WA-p",
        "outputId": "0c953303-da72-4fac-8057-40a6b69c26c3"
      },
      "outputs": [
        {
          "name": "stdout",
          "output_type": "stream",
          "text": [
            "['Joe and Hillary went home to Scranton. Take a behind-the-scenes look at their visit: https://t.co/xdiqa0dbdP'\n",
            " \"21 years ago @HillaryClinton's speech pushed the political discourse and forced a global dialogue on gender equality https://t.co/ie6q5yfytF\"\n",
            " '\"Safeguarding freedom and security is not like hosting a TV reality show. It...demands a cool head, but also a big heart.\" —@Madeleine'\n",
            " '“America, we will rise.” —@CoryBooker #DemsInPhilly'\n",
            " 'Y ahora le toca el turno en la convención republicana a... ¡Newt Gingrich! https://t.co/lj490zwvfb'\n",
            " '\"Hillary has a passion for kids and families. Donald Trump has a passion, too.\\n\\nIt\\'s himself!\" —@TimKaine https://t.co/8M7cNeLeVu'\n",
            " '\"I’m with her, I’m fired up, and I can’t wait to get out there and campaign for Hillary.\" —@POTUS https://t.co/ptbhfpCooQ'\n",
            " 'Para dejarle un mejor futuro a nuestros niños, tenemos que proteger el futuro de nuestro planeta. #DiaDeLaTierra https://t.co/BUdyIdA5lz'\n",
            " \"We can't wait to welcome back President Barack Obama and @HillaryClinton to Wisconsin on Wednesday! #WIBackHer https://t.co/Td6wplVCD2\"\n",
            " '\"If you have a mother, a wife, a sister, a daughter who is working, it affects you\" —Hillary on equal pay for women: https://t.co/qM16OacO9H']\n"
          ]
        }
      ],
      "source": [
        "print(Hillary_predictions.sort_values(by=['threat'], ascending=False)['text'].head(10).values)"
      ]
    },
    {
      "cell_type": "code",
      "execution_count": null,
      "metadata": {
        "_uuid": "1b545aa3b6e1dc5a369700fff135d8ee9c60992a",
        "id": "l8gvyLDrWA-q"
      },
      "outputs": [],
      "source": []
    },
    {
      "cell_type": "markdown",
      "metadata": {
        "_uuid": "a03e033a6f8b957a4fb730b3436393387d8ce3bd",
        "id": "_vpih6ejWA-q"
      },
      "source": []
    },
    {
      "cell_type": "markdown",
      "metadata": {
        "_uuid": "edc1788abbd70d9decdf572a1ac47a70ee89c41f",
        "id": "4Db6T204WA-q"
      },
      "source": [
        "What's Hillary's worst insult?"
      ]
    },
    {
      "cell_type": "code",
      "execution_count": null,
      "metadata": {
        "_uuid": "73886826b029bca7857599e087c7fc6056786ad3",
        "id": "5wMSiinKWA-q",
        "outputId": "15ff5c67-1c88-44d3-ea85-3003ba03ad2f"
      },
      "outputs": [
        {
          "data": {
            "text/plain": [
              "'Hoy es tu día de votar por Hillary. RT esto y déjale saber a tus amigos: #EstoyConElla https://t.co/YMh9aZEgDX'"
            ]
          },
          "execution_count": 45,
          "metadata": {},
          "output_type": "execute_result"
        }
      ],
      "source": [
        "Hillary_predictions.loc[Hillary_predictions['insult'].idxmax()]['text']"
      ]
    },
    {
      "cell_type": "markdown",
      "metadata": {
        "_uuid": "b74ba511b0006d073562c550fd33862afe0ef29f",
        "id": "3qdhHMxDWA-q"
      },
      "source": [
        "Ouch. That's definitely below the belt, but in a more indirect kind of way. And yeah, insluting. Good job, predictive modeling!\n",
        "\n",
        "Here are the top 10 \"insults\""
      ]
    },
    {
      "cell_type": "code",
      "execution_count": null,
      "metadata": {
        "_uuid": "0dcaea720efa359aa20634775c9f43f08d70bc96",
        "id": "LafDp7c6WA-r",
        "outputId": "e53d5907-18e4-4179-ba7b-117e2545b3e3"
      },
      "outputs": [
        {
          "name": "stdout",
          "output_type": "stream",
          "text": [
            "['Hoy es tu día de votar por Hillary. RT esto y déjale saber a tus amigos: #EstoyConElla https://t.co/YMh9aZEgDX'\n",
            " '¡Puerto Rico! Hoy es tu día de ir a votar por Hillary. Comparte esto y déjale saber a tus amigos: #EstoyConElla. https://t.co/0hjWISk8uR'\n",
            " \"The reporting on Hillary's emails has left the basis of facts and veered into dangerous territory. https://t.co/ycp0KW7LZL\"\n",
            " 'Every 👈  time 👈 @realDonaldTrump 👈 makes 👈 you 👈 mad 👈 chip 👈 in👈  $1. https://t.co/dMjk7sxuSh https://t.co/yoDchxFpPZ'\n",
            " '\"He’s spent most of his life trying to stay as far away from working people as he could.” —@POTUS on Trump https://t.co/zhjJQuMX7X'\n",
            " '\"The death of Alton Sterling is a tragedy, and my prayers are with his family.\" —Hillary https://t.co/Yky4ZxfbLN'\n",
            " 'Estoy indignado por la falta de acción para parar la violencia causada por armas de fuego. Es momento de actuar #HoldTheFloor #NoBillNoBreak'\n",
            " 'Donald Trump has spent his career stiffing small businesses, refusing to pay them what they’re owed. https://t.co/un2YiRLEYF'\n",
            " '¡Esta victoria es de todos ustedes Nueva York! Muchas gracias por su apoyo. Unete a la campaña aquí → https://t.co/29hAgCxpQM'\n",
            " 'El emocionante momento cuando @lorellapraeli pudo votar por primera vez. ¡Felicitaciones!\\nhttps://t.co/w2lQc1tg9o']\n"
          ]
        }
      ],
      "source": [
        "print(Hillary_predictions.sort_values(by=['insult'], ascending=False)['text'].head(10).values)"
      ]
    },
    {
      "cell_type": "markdown",
      "metadata": {
        "_uuid": "4d129932d38422e20a96d554643c1c931597bc36",
        "id": "quVuUh2dWA-r"
      },
      "source": [
        "Let's look at identity hate:"
      ]
    },
    {
      "cell_type": "code",
      "execution_count": null,
      "metadata": {
        "_uuid": "8acbc493edce18331733d79b48310de1252dc433",
        "id": "Dp4PBJnjWA-r",
        "outputId": "748db2ae-ceae-47a4-ff75-a08700dfe1a7"
      },
      "outputs": [
        {
          "data": {
            "text/plain": [
              "'“Si el lugar donde estás no tiene espacio para tu voz, no tengas miedo de crear tu propio espacio”— Hillary en #TheToast.'"
            ]
          },
          "execution_count": 47,
          "metadata": {},
          "output_type": "execute_result"
        }
      ],
      "source": [
        "Hillary_predictions.loc[Hillary_predictions['identity_hate'].idxmax()]['text']"
      ]
    },
    {
      "cell_type": "code",
      "execution_count": null,
      "metadata": {
        "_uuid": "74b1edde74658dc2f9614e1c12ff2cdf9051676b",
        "id": "uzt5RGBhWA-r"
      },
      "outputs": [],
      "source": []
    },
    {
      "cell_type": "markdown",
      "metadata": {
        "_uuid": "f165cbc1ef39d50c4813e077cde4072fbe165e38",
        "id": "o31aC8hlWA-r"
      },
      "source": [
        "Hmm, that's interesting: seem the algorithm has marked Hillary's ReTweet of Trump's tweet. Seems like there is something deep going on here. Or the algorithm is just plain unreliable. \n",
        "\n",
        "Let's look at the top 10 \"hateful\" Hillary tweets:"
      ]
    },
    {
      "cell_type": "code",
      "execution_count": null,
      "metadata": {
        "_uuid": "72e283692c87b6e14134fa2abbaa8530281f2569",
        "id": "NDK9wUZuWA-s",
        "outputId": "dacd69b2-82db-4890-8c4c-171b970f415d"
      },
      "outputs": [
        {
          "name": "stdout",
          "output_type": "stream",
          "text": [
            "['“Si el lugar donde estás no tiene espacio para tu voz, no tengas miedo de crear tu propio espacio”— Hillary en #TheToast.'\n",
            " 'Y ahora le toca el turno en la convención republicana a... ¡Newt Gingrich! https://t.co/lj490zwvfb'\n",
            " 'While American families suffered, Donald Trump tried to cash in. \\n\\nhttps://t.co/BvkHu63H1h'\n",
            " 'Happy #WomensEqualityDay from @realDonaldTrump. https://t.co/YfUdtygL4h'\n",
            " 'Imagine a tomorrow where hard work is honored, families are supported, communities are strong, and love trumps hate.\\nhttps://t.co/PaSVdd4MH6'\n",
            " 'Teen pregnancy rate at all-time low. Despite Republican opposition, access to contraception &amp; sex education works. https://t.co/fkZY4zIARd'\n",
            " 'El emocionante momento cuando @lorellapraeli pudo votar por primera vez. ¡Felicitaciones!\\nhttps://t.co/w2lQc1tg9o'\n",
            " '\"Imagine a tomorrow where...love trumps hate.” —Hillary'\n",
            " '\"We pray for those families and for the souls of all those we lost this week and all those preceding. May they rest in God’s peace\" —Hillary'\n",
            " 'Stopped by an old @HillaryClinton favorite, @MikeyLikesItNY in the #EastVillage. Read this: https://t.co/O6NTi77fia https://t.co/dAc480btuL']\n"
          ]
        }
      ],
      "source": [
        "print(Hillary_predictions.sort_values(by=['identity_hate'], ascending=False)['text'].head(10).values)"
      ]
    },
    {
      "cell_type": "markdown",
      "metadata": {
        "_uuid": "604cfb19347f23d460cd760b942ff2afd3742e64",
        "id": "Io5abfk5WA-s"
      },
      "source": [
        "OK, let's move onto Trump. First, his most toxic tweet:"
      ]
    },
    {
      "cell_type": "code",
      "execution_count": null,
      "metadata": {
        "_uuid": "035a3063d33b824b1d8acd8b629b759f9c0a132d",
        "id": "dUpe2FoDWA-s",
        "outputId": "19361c6a-4f46-4875-f73e-546358768fb4"
      },
      "outputs": [
        {
          "data": {
            "text/plain": [
              "'\"Every American needs to say 2 simple words to every Vet they meet: THANK YOU!\" John Wayne Walding \\nhttps://t.co/wG8EzPHZt1'"
            ]
          },
          "execution_count": 49,
          "metadata": {},
          "output_type": "execute_result"
        }
      ],
      "source": [
        "Trump_predictions.loc[Trump_predictions['toxic'].idxmax()]['text']"
      ]
    },
    {
      "cell_type": "markdown",
      "metadata": {
        "_uuid": "007cf612dd1418f23dd20c3844e0fa2551f164fc",
        "id": "pBNzF51bWA-t"
      },
      "source": [
        "That's just weird: there is nothign toxic about it. The same tweet has been flagged as the most severly toxic and obscene tweet as well. Not very informative.\n",
        "\n",
        "But let's take a closer look at the top 10 flagged tweets in each one of those categories.\n",
        "\n",
        "First toxic:"
      ]
    },
    {
      "cell_type": "code",
      "execution_count": null,
      "metadata": {
        "_uuid": "95287542eb81ec5c516cd5ead1feb5485b2b9844",
        "id": "ZfwmBjAYWA-t",
        "outputId": "abd28260-7f29-4b31-838f-cdf7e38ed055"
      },
      "outputs": [
        {
          "name": "stdout",
          "output_type": "stream",
          "text": [
            "['\"Every American needs to say 2 simple words to every Vet they meet: THANK YOU!\" John Wayne Walding \\nhttps://t.co/wG8EzPHZt1'\n",
            " '\"@Ma1973sk: Actually, no @FoxNews, @megynkelly has a sick obsession with Trump. Every day, every show, trashing, negative, hate.'\n",
            " \"Word is that crying @GlennBeck left the GOP and doesn't have the right to vote in the Republican primary. Dumb as a rock.\"\n",
            " 'Just left a great event in Pella. Going to church tomorrow in Muscatine, Iowa.'\n",
            " 'Even though every poll, Time, Drudge etc., has me winning the debate by a lot, @FoxNews only puts negative people on. Biased - a total joke!'\n",
            " '\"@arnold_ziffel: @AnnCoulter also can\\'t help but notice the stock market\\'s reaction as @realDonaldTrump was speaking. #UPUPUP\"'\n",
            " 'Jeb Bush spent more than $40,000,000 in New Hampshire to come in 4 or 5, I spent $3,000,000 to come in 1st. Big difference in capability!'\n",
            " \"A massive tax increase will be necessary to fund Crooked Hillary Clinton's agenda. What a terrible (and boring) rollout that was yesterday!\"\n",
            " \"Lyin' Ted Cruz lost all five races on Tuesday-and he was just given the jinx - a Lindsey Graham endorsement. Also backed Jeb. Lindsey got 0!\"\n",
            " 'Jeb Bush and Ted Cruz are not electable presidential candidates, Hillary would destroy them. Ted may not be eligible to run - born in Canada']\n"
          ]
        }
      ],
      "source": [
        "print(Trump_predictions.sort_values(by=['toxic'], ascending=False)['text'].head(10).values)"
      ]
    },
    {
      "cell_type": "markdown",
      "metadata": {
        "_uuid": "f40b17e3fb4ac6bd6e11fbd1477b7acce0b43ce4",
        "id": "UH9M-PKbWA-t"
      },
      "source": [
        "Severe toxic:"
      ]
    },
    {
      "cell_type": "code",
      "execution_count": null,
      "metadata": {
        "_uuid": "564fd1566803145d43387c76509a48ea861c07b2",
        "id": "0-3B-0lpWA-t",
        "outputId": "d1843617-4514-4ff1-8034-7a8895a6c896"
      },
      "outputs": [
        {
          "name": "stdout",
          "output_type": "stream",
          "text": [
            "['\"Every American needs to say 2 simple words to every Vet they meet: THANK YOU!\" John Wayne Walding \\nhttps://t.co/wG8EzPHZt1'\n",
            " '\"@CLewandowski_: Massive crowd in Pensacola, Florida! Unbelievable! THANK YOU! #VoteTrump https://t.co/9D2tsQaysd\"'\n",
            " 'Jeb Bush spent more than $40,000,000 in New Hampshire to come in 4 or 5, I spent $3,000,000 to come in 1st. Big difference in capability!'\n",
            " \"A massive tax increase will be necessary to fund Crooked Hillary Clinton's agenda. What a terrible (and boring) rollout that was yesterday!\"\n",
            " \"Lyin' Ted Cruz lost all five races on Tuesday-and he was just given the jinx - a Lindsey Graham endorsement. Also backed Jeb. Lindsey got 0!\"\n",
            " \"American homeownership rate in Q2 2016 was 62.9% - lowest rate in 51yrs. WE will bring back the  'American Dream!' https://t.co/yI4Q8FHRjp\"\n",
            " '\"@arnold_ziffel: @AnnCoulter also can\\'t help but notice the stock market\\'s reaction as @realDonaldTrump was speaking. #UPUPUP\"'\n",
            " \"Word is that crying @GlennBeck left the GOP and doesn't have the right to vote in the Republican primary. Dumb as a rock.\"\n",
            " \"I think having Jeb's endorsement hurts Lyin' Ted. Jeb spent more than $150,000,000 and got nothing. I spent a fraction of that and am first!\"\n",
            " 'Jeb Bush and Ted Cruz are not electable presidential candidates, Hillary would destroy them. Ted may not be eligible to run - born in Canada']\n"
          ]
        }
      ],
      "source": [
        "print(Trump_predictions.sort_values(by=['severe_toxic'], ascending=False)['text'].head(10).values)"
      ]
    },
    {
      "cell_type": "markdown",
      "metadata": {
        "_uuid": "45441595a935064fcd4e069922f0d6b3fce3e527",
        "id": "NZA86D8PWA-t"
      },
      "source": [
        "Obscene:"
      ]
    },
    {
      "cell_type": "code",
      "execution_count": null,
      "metadata": {
        "_uuid": "a81b79d3d6b6f7434b0e11fee56799dc7fbc7d27",
        "id": "APv96M6cWA-u",
        "outputId": "67bce2bf-4736-46e3-b1c3-40a216f163a9"
      },
      "outputs": [
        {
          "name": "stdout",
          "output_type": "stream",
          "text": [
            "['\"Every American needs to say 2 simple words to every Vet they meet: THANK YOU!\" John Wayne Walding \\nhttps://t.co/wG8EzPHZt1'\n",
            " '\"@Ma1973sk: Actually, no @FoxNews, @megynkelly has a sick obsession with Trump. Every day, every show, trashing, negative, hate.'\n",
            " 'Even though every poll, Time, Drudge etc., has me winning the debate by a lot, @FoxNews only puts negative people on. Biased - a total joke!'\n",
            " '\"@CLewandowski_: Massive crowd in Pensacola, Florida! Unbelievable! THANK YOU! #VoteTrump https://t.co/9D2tsQaysd\"'\n",
            " 'Just left a great event in Pella. Going to church tomorrow in Muscatine, Iowa.'\n",
            " 'Jeb Bush spent more than $40,000,000 in New Hampshire to come in 4 or 5, I spent $3,000,000 to come in 1st. Big difference in capability!'\n",
            " \"American homeownership rate in Q2 2016 was 62.9% - lowest rate in 51yrs. WE will bring back the  'American Dream!' https://t.co/yI4Q8FHRjp\"\n",
            " 'Six hours left to #VoteTrump Connecticut! https://t.co/U1kbLMwhNI'\n",
            " 'Wow, every poll said I won the debate last night. Great honor!'\n",
            " 'Just left Sioux Center, Iowa. My speech was very well received. Truly great people! Packed house- overflow!']\n"
          ]
        }
      ],
      "source": [
        "print(Trump_predictions.sort_values(by=['obscene'], ascending=False)['text'].head(10).values)"
      ]
    },
    {
      "cell_type": "markdown",
      "metadata": {
        "_uuid": "8c0ff9405e63503a7ba3b326b3b5cd533da7f445",
        "id": "heUQMZRcWA-u"
      },
      "source": [
        "Now how about threats?"
      ]
    },
    {
      "cell_type": "code",
      "execution_count": null,
      "metadata": {
        "_uuid": "85cc640110a454224582fe28644d23509ba7510e",
        "id": "URHsAkZnWA-u",
        "outputId": "6d9d868d-8541-4baa-92ff-9a332d954c73"
      },
      "outputs": [
        {
          "data": {
            "text/plain": [
              "\"A massive tax increase will be necessary to fund Crooked Hillary Clinton's agenda. What a terrible (and boring) rollout that was yesterday!\""
            ]
          },
          "execution_count": 53,
          "metadata": {},
          "output_type": "execute_result"
        }
      ],
      "source": [
        "Trump_predictions.loc[Trump_predictions['threat'].idxmax()]['text']"
      ]
    },
    {
      "cell_type": "markdown",
      "metadata": {
        "_uuid": "91ed2ff4cdd7c7c803bac0bfecaf8603cf865598",
        "id": "H2WoGcI3WA-v"
      },
      "source": [
        "Massive tax increases? yeah, I can see how this could be viewed as threatening.\n",
        "\n",
        "Let's take a closer look at the top 10 worst 'threat' tweets:"
      ]
    },
    {
      "cell_type": "code",
      "execution_count": null,
      "metadata": {
        "_uuid": "1c86f0579b4e62dca6977693502aa7444d4aef08",
        "id": "k4LNkRXIWA-v",
        "outputId": "694deaff-9b7e-4a1a-aac8-50ba8cbb48b5"
      },
      "outputs": [
        {
          "name": "stdout",
          "output_type": "stream",
          "text": [
            "[\"A massive tax increase will be necessary to fund Crooked Hillary Clinton's agenda. What a terrible (and boring) rollout that was yesterday!\"\n",
            " 'Word is that, despite a record amount spent on negative and phony ads, I had a massive victory in Florida. Numbers out soon!'\n",
            " 'While Hillary and I both won South Carolina by big margins, Repubs got far more votes with a massive increase from past cycles.GROWING PARTY'\n",
            " 'A vote for Clinton-Kaine is a vote for TPP, NAFTA, high taxes, radical regulation, and massive influx of refugees.'\n",
            " 'Just got back from Asheville,  North Carolina, where we had a massive rally. The spirit of the crowd was unbelievable. Thank you!  #MAGA'\n",
            " \"The @WashingtonPost quickly put together a hit job book on me- comprised of copies of some of their inaccurate stories. Don't buy, boring!\"\n",
            " '\"@johnjohnlacca: Donald u have done a terrific job so far on the interview. Cannot wait until u r president #MegynKellyPresents'\n",
            " 'In the last 2 weeks, I had $35M of negative ads against me in Florida &amp; I won in a massive landslide.The establishment should save their $$!'\n",
            " 'The totally unexpected loss of Supreme Court Justice Antonin Scalia is a massive setback for the Conservative movement and our COUNTRY!'\n",
            " 'Wow, in the new CBS Poll I went way up into the forties! Thank you!']\n"
          ]
        }
      ],
      "source": [
        "print(Trump_predictions.sort_values(by=['threat'], ascending=False)['text'].head(10).values)"
      ]
    },
    {
      "cell_type": "markdown",
      "metadata": {
        "_uuid": "0e8ad0c5096a56364e89807b23a47c1bba672cdf",
        "id": "6Y0aVUDlWA-v"
      },
      "source": [
        "\n",
        "\n",
        "How about the most insulting tweet?"
      ]
    },
    {
      "cell_type": "code",
      "execution_count": null,
      "metadata": {
        "_uuid": "860ca0da6fd4ece6caae575c1cb9f707de184e85",
        "id": "Rl0cgzXLWA-v",
        "outputId": "cd248a96-095f-4470-be52-ddd54494fa32"
      },
      "outputs": [
        {
          "data": {
            "text/plain": [
              "'Wow, you are all correct about @FoxNews - totally biased and disgusting reporting.'"
            ]
          },
          "execution_count": 55,
          "metadata": {},
          "output_type": "execute_result"
        }
      ],
      "source": [
        "Trump_predictions.loc[Trump_predictions['insult'].idxmax()]['text']"
      ]
    },
    {
      "cell_type": "markdown",
      "metadata": {
        "_uuid": "e853310f9298861ed658558c0b738235f953d4a2",
        "id": "pwRL0ZCgWA-v"
      },
      "source": [
        "Yeah, definitely insulting. On so many levels. I can't even ..."
      ]
    },
    {
      "cell_type": "markdown",
      "metadata": {
        "_uuid": "5a7c009384fba2882d6895abf839d375d27295e9",
        "id": "H54m4S02WA-w"
      },
      "source": [
        "Let's take a closer look at the top 10 worst 'insult' tweets:"
      ]
    },
    {
      "cell_type": "code",
      "execution_count": null,
      "metadata": {
        "_uuid": "83d647f82492b1844b8dde0fbae5aab3b70fa16f",
        "id": "1zyPAMhiWA-w",
        "outputId": "f736280d-9db9-4978-c82e-a4d0c74b47e4"
      },
      "outputs": [
        {
          "name": "stdout",
          "output_type": "stream",
          "text": [
            "['Wow, you are all correct about @FoxNews - totally biased and disgusting reporting.'\n",
            " \"Lyin' Ted Cruz lost all five races on Tuesday-and he was just given the jinx - a Lindsey Graham endorsement. Also backed Jeb. Lindsey got 0!\"\n",
            " \"Word is that crying @GlennBeck left the GOP and doesn't have the right to vote in the Republican primary. Dumb as a rock.\"\n",
            " '\"@CLewandowski_: Massive crowd in Pensacola, Florida! Unbelievable! THANK YOU! #VoteTrump https://t.co/9D2tsQaysd\"'\n",
            " '\"Every American needs to say 2 simple words to every Vet they meet: THANK YOU!\" John Wayne Walding \\nhttps://t.co/wG8EzPHZt1'\n",
            " 'Jeb Bush spent more than $40,000,000 in New Hampshire to come in 4 or 5, I spent $3,000,000 to come in 1st. Big difference in capability!'\n",
            " \"American homeownership rate in Q2 2016 was 62.9% - lowest rate in 51yrs. WE will bring back the  'American Dream!' https://t.co/yI4Q8FHRjp\"\n",
            " \"The media is spending more time doing a forensic analysis of Melania's speech than the FBI spent on Hillary's emails.\"\n",
            " '.@FoxNews is so biased it is disgusting. They do not want Trump to win. All negative!'\n",
            " '\"@noamscheiber: Dow down almost 2000 pts since start of year, but still outperforming Wall Street\\'s investment in Jeb.']\n"
          ]
        }
      ],
      "source": [
        "print(Trump_predictions.sort_values(by=['insult'], ascending=False)['text'].head(10).values)"
      ]
    },
    {
      "cell_type": "markdown",
      "metadata": {
        "_uuid": "0944d1c30e1151fa680bfa9dba5572fbe9f48630",
        "id": "gwehNZoQWA-w"
      },
      "source": [
        "Seems that back then Fox News was not exactly his favorite TV network. \n",
        "\n",
        "And what about identity hate?"
      ]
    },
    {
      "cell_type": "code",
      "execution_count": null,
      "metadata": {
        "_uuid": "1aff025d9f6fb36f605947db4f2126470d0b3f91",
        "id": "sr6H0oWOWA-w",
        "outputId": "541591d1-38fd-4151-92f4-2c1beff533bb"
      },
      "outputs": [
        {
          "data": {
            "text/plain": [
              "'\"@noamscheiber: Dow down almost 2000 pts since start of year, but still outperforming Wall Street\\'s investment in Jeb. JEB wants Common Core'"
            ]
          },
          "execution_count": 57,
          "metadata": {},
          "output_type": "execute_result"
        }
      ],
      "source": [
        "Trump_predictions.loc[Trump_predictions['identity_hate'].idxmax()]['text']"
      ]
    },
    {
      "cell_type": "markdown",
      "metadata": {
        "_uuid": "4cf836d893f7f4e5da6f8969fc42719007a3d59a",
        "id": "Y0DJaPNVWA-x"
      },
      "source": [
        "That one really made me LOL. And think. Is he mocking him for his \"identity\" of bing Jeb? Or mommy's boy? Or W's brother? Or a weakling? All of the above? So many choices  ...\n",
        "\n",
        "Let's take a closer look at the top 10 worst 'identity hate' tweets:"
      ]
    },
    {
      "cell_type": "code",
      "execution_count": null,
      "metadata": {
        "_uuid": "2733faa1ea7cb9b4cc970a130fd52515d1e6e232",
        "id": "L-X6Oyj-WA-x",
        "outputId": "2efbeb22-3aaf-458e-f907-80dbaefc3185"
      },
      "outputs": [
        {
          "name": "stdout",
          "output_type": "stream",
          "text": [
            "['\"@noamscheiber: Dow down almost 2000 pts since start of year, but still outperforming Wall Street\\'s investment in Jeb. JEB wants Common Core'\n",
            " '\"@noamscheiber: Dow down almost 2000 pts since start of year, but still outperforming Wall Street\\'s investment in Jeb.'\n",
            " 'Jeb failed as Jeb! He gave up and enlisted Mommy and his brother (who got us into the quicksand of Iraq). Spent $120 million.Weak-no chance!'\n",
            " \"Ted Cruz, along with Jeb Bush, pushed Justice John Roberts onto the Supreme Court. Roberts could have killed ObamaCare twice, but didn't!\"\n",
            " \"Joe Scarborough initially endorsed Jeb Bush and Jeb crashed, then John Kasich and that didn't work. Not much power or insight!\"\n",
            " '\"@autumnandews08: @realDonaldTrump @JebBush Jeb is incompetent and will lose, don\\'t waste your energy on that cry baby!\"'\n",
            " 'Tennessee GOP Poll\\nhttps://t.co/hfSxKaXC42\\nTrump 32.7%\\nCruz 16.5%\\nCarson 6.6%\\nRubio 5.3%\\nChristie 2.4%\\nJeb 1.6%'\n",
            " '\"Jeb is a weak guy.\" @EricTrump\\nhttps://t.co/w8YuC5bApY'\n",
            " 'Low energy Jeb Bush just endorsed a man he truly hates, Lyin’ Ted Cruz. Honestly, I can’t blame Jeb in that I drove him into oblivion!'\n",
            " 'After the way I beat Gov. Scott Walker (and Jeb, Rand, Marco and all others) in the Presidential Primaries, no way he would ever endorse me!']\n"
          ]
        }
      ],
      "source": [
        "print(Trump_predictions.sort_values(by=['identity_hate'], ascending=False)['text'].head(10).values)"
      ]
    },
    {
      "cell_type": "markdown",
      "metadata": {
        "_uuid": "e249a4906e712e863d76cb7fc75e4539e80610cc",
        "id": "vF9ZfNmWWA-x"
      },
      "source": [
        "Seeems that Jeb really got under his skin!"
      ]
    },
    {
      "cell_type": "markdown",
      "metadata": {
        "_uuid": "911df9d7eb90e116070dbc52a4f06ed04558c834",
        "id": "Skk2DQXeWA-x"
      },
      "source": [
        "\n",
        "In the end, this exercise shows both the strengths and limitations of algorithmic approach to toxic comment classification. Since the AUC score for the training sets is relatively high (almost 0.99 for  the top models), it is most likely that in the case human insight is even more relevant than for most other ML areas. Furthermore, even though we had a pretty large dataset to work with, it is very likely that in order to get even close to human level toxic text classification, we'd need several orders of magnitude larger training set, and/or deeper natural text understanding models. "
      ]
    },
    {
      "cell_type": "code",
      "execution_count": null,
      "metadata": {
        "_uuid": "04364c1b79ed1f71e5227d3475db61a8898baeed",
        "id": "gwTkBLoxWA-x"
      },
      "outputs": [],
      "source": []
    },
    {
      "cell_type": "code",
      "execution_count": null,
      "metadata": {
        "_uuid": "3e39470297590e5a3b9f175739371273d1c10486",
        "id": "RxHpb-Z3WA-y"
      },
      "outputs": [],
      "source": []
    },
    {
      "cell_type": "code",
      "execution_count": null,
      "metadata": {
        "id": "r5QmUqSbWA-y"
      },
      "outputs": [],
      "source": []
    }
  ],
  "metadata": {
    "kernelspec": {
      "display_name": "Python 3 (ipykernel)",
      "language": "python",
      "name": "python3"
    },
    "language_info": {
      "codemirror_mode": {
        "name": "ipython",
        "version": 3
      },
      "file_extension": ".py",
      "mimetype": "text/x-python",
      "name": "python",
      "nbconvert_exporter": "python",
      "pygments_lexer": "ipython3",
      "version": "3.8.0"
    },
    "colab": {
      "provenance": [],
      "include_colab_link": true
    }
  },
  "nbformat": 4,
  "nbformat_minor": 0
}